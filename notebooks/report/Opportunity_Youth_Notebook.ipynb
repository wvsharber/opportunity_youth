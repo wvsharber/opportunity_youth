{
 "cells": [
  {
   "cell_type": "markdown",
   "metadata": {},
   "source": [
    "# Opportunity Youth in South King County "
   ]
  },
  {
   "cell_type": "markdown",
   "metadata": {},
   "source": [
    "## Purpose of Analysis\n",
    "\n",
    "In order to better serve the opportunity youth of South King County, we are updating our statistics on these youth with more current data. We want to enable our services to focus on the population who would benefit the most from our services."
   ]
  },
  {
   "cell_type": "markdown",
   "metadata": {},
   "source": [
    "## Key Takeaways\n",
    "\n",
    "1. The total number and percentage of opportunity youth in S. King Co. lowered between 2014 and 2017. This trend is also repeated across all age groups.\n",
    "\n",
    "2. Opportunity youth without college experience are more prevalent than those with college experience.\n",
    "\n",
    "Although our analyses are unable to discern between demographic effects and policy change effects, we are confident that opportunity youth numbers have lowered in S. King Co. We suggest that future service programs focus on helping opportunity youth transition from high school to college."
   ]
  },
  {
   "cell_type": "markdown",
   "metadata": {},
   "source": [
    "### Import Necessary Modules"
   ]
  },
  {
   "cell_type": "code",
   "execution_count": 3,
   "metadata": {},
   "outputs": [],
   "source": [
    "\n",
    "from src.utilities import opyouth\n"
   ]
  },
  {
   "cell_type": "markdown",
   "metadata": {},
   "source": [
    "### Import the data \n",
    "\n",
    "The following command will pull the associated data into dataframes to be used in the rest of this Notebook."
   ]
  },
  {
   "cell_type": "code",
   "execution_count": 2,
   "metadata": {},
   "outputs": [],
   "source": [
    "(opp_youth,\n",
    " total_population, \n",
    " poptotals, \n",
    " opportunity_youth, \n",
    " OYtotals, \n",
    " pivot_total_youth_pop, \n",
    " pivot_opportunity_youth,\n",
    " youth_population_2014_2017,\n",
    " youth_population_totals_2014_2017, \n",
    " oy_population_2014_2017, \n",
    " oy_population_totals_2014_2017,\n",
    " total_youth) = opyouth.pullsqldata()"
   ]
  },
  {
   "cell_type": "markdown",
   "metadata": {},
   "source": [
    "## Estimating 2017 Opportunity Youth\n",
    "\n",
    "The estimate of 2019 opportunity youth is calculated by summing all the records from the `pums_2017` database filtered by rows that meet the qualifications for South King County opportunity youth (i.e., ages 16-24 and neither currently enrolled nor employed), but each record is multiplied by the column `pwgtp` which is the weight that record holds for the total population. Here, if we sum `pwgtp` across all the rows, we get an estimate of the number of opportunity youth in South King County for 2017."
   ]
  },
  {
   "cell_type": "code",
   "execution_count": null,
   "metadata": {},
   "outputs": [],
   "source": [
    "print(opp_youth['pwgtp'].sum())"
   ]
  },
  {
   "cell_type": "markdown",
   "metadata": {},
   "source": [
    "## Calculating Opportunity Youth Status by Age\n",
    "\n",
    "The 2016 report on opportunity youth contains a table showing total opportunity youth and total youth by age, their education status, and their employment status. We recalculate these statistics using the updated information for 2017. To see the original data, see page two in https://roadmapproject.org/wp-content/uploads/2018/09/Opportunity-Youth-2016-Data-Brief-v2.pdf. \n",
    "\n",
    "The following tables stored in `pivot_total_youth_pop` and `poptotals` replicate the original tables and show the breakdown of our estimates of South King Co. youth by their age bracket (16-18, 19-21, or 22-24) and their employment/education status (not an Opportunity Youth, an Opportunity Youth, or a youth working without a HS diploma or GED). We also show the percentage that each of these segments makes up of the total youth population. \n",
    "\n"
   ]
  },
  {
   "cell_type": "code",
   "execution_count": null,
   "metadata": {},
   "outputs": [],
   "source": [
    "pivot_total_youth_pop"
   ]
  },
  {
   "cell_type": "code",
   "execution_count": null,
   "metadata": {},
   "outputs": [],
   "source": [
    "poptotals"
   ]
  },
  {
   "cell_type": "markdown",
   "metadata": {},
   "source": [
    "## Calculating Education Achievement of 2017 Opportunity Youth\n",
    "\n",
    "The following two tables contain similar statistics as the previous two tables, but divide up the opportunity youth of South King Co. by their level of education: those without a diploma, those with a HS diploma or GED, those with some college credits but no degree, or those with a college degree (associates or higher)."
   ]
  },
  {
   "cell_type": "code",
   "execution_count": null,
   "metadata": {},
   "outputs": [],
   "source": [
    "pivot_opportunity_youth"
   ]
  },
  {
   "cell_type": "code",
   "execution_count": null,
   "metadata": {
    "scrolled": true
   },
   "outputs": [],
   "source": [
    "OYtotals"
   ]
  },
  {
   "cell_type": "markdown",
   "metadata": {},
   "source": [
    "# Key results from comparing 2017 data to 2014 data\n",
    "\n",
    "To compare our updated statistics on opportunity youth in South King County, we included four .csv files in this repository that replicate the data from the 2016 report which were imported into dataframes at the beginning of this Notebook. Below, we plot these datasets side-by-side to highly trends between 2014 and 2017.\n",
    "\n",
    "### The overall youth population has decreased\n",
    "\n",
    "First, we plot the total number of youths ages 16-24 in the region of interest. We see that there is a drop from approximately 140,000 individuals in the 2014 census to about 115,000 in 2017."
   ]
  },
  {
   "cell_type": "code",
   "execution_count": null,
   "metadata": {},
   "outputs": [],
   "source": [
    "opyouth.plotdata1(youth_population_totals_2014_2017);"
   ]
  },
  {
   "cell_type": "markdown",
   "metadata": {},
   "source": [
    "### The proportion of opportunity youth in South King Co. has decreased\n",
    "\n",
    "Taking into consideration that the total number of youths have decreased, we also see that the percentage of 16-24 year olds in South King County that qualify as opportunity youths have also decreased by about one percent. "
   ]
  },
  {
   "cell_type": "code",
   "execution_count": null,
   "metadata": {},
   "outputs": [],
   "source": [
    "opyouth.plotdata2(df = youth_population_totals_2014_2017);"
   ]
  },
  {
   "cell_type": "markdown",
   "metadata": {},
   "source": [
    "### The proportion of opportunity youths have decreased across all three age ranges\n",
    "\n",
    "The following plots show the percentage of the youth population in the three age groups. In the opportunity youth specifically, the percentage has decreased in all three groups, with the largest decrease in 22-24 year olds, which now make up a smaller percentage of opportunity youth than the 19-21 year olds, a reversal from the 2014 data."
   ]
  },
  {
   "cell_type": "code",
   "execution_count": null,
   "metadata": {
    "scrolled": true
   },
   "outputs": [],
   "source": [
    "opyouth.plotdata3(df = youth_population_2014_2017);"
   ]
  },
  {
   "cell_type": "code",
   "execution_count": null,
   "metadata": {},
   "outputs": [],
   "source": [
    "opyouth.plotdata4(df = youth_population_2014_2017);"
   ]
  },
  {
   "cell_type": "markdown",
   "metadata": {},
   "source": [
    "### The proportion of opportunity youths with college experience has decreased\n",
    "\n",
    "Finally, we plotted the level of education attained by opportunity youths between 2014 and 2017. Opportunity youths that have not completed any schooling other than high school or their GED have increased in proportion compared to those who have college experience, which have decreased in number since 2014. "
   ]
  },
  {
   "cell_type": "code",
   "execution_count": null,
   "metadata": {
    "scrolled": true
   },
   "outputs": [],
   "source": [
    "opyouth.plotdata5(df = oy_population_totals_2014_2017);"
   ]
  },
  {
   "cell_type": "markdown",
   "metadata": {},
   "source": [
    "## Visualizing the Opportunity Youth across South King County\n"
   ]
  },
  {
   "cell_type": "markdown",
   "metadata": {},
   "source": [
    "Because population statistics tend to have a spatial dependency, it is important to visualize the Opportunity Youth \n",
    "across the South King County region. We were provided shape files for the puma regions that we were studying, so\n",
    "first we wanted to visualize our defined region. We did this by using the Folium and Geopandas packages which\n",
    "simplify live map production. The following function creates our live Folium Map displaying the region that we studied. "
   ]
  },
  {
   "cell_type": "code",
   "execution_count": null,
   "metadata": {},
   "outputs": [],
   "source": [
    "opyouth.make_locator_map()"
   ]
  },
  {
   "cell_type": "markdown",
   "metadata": {},
   "source": [
    "## Visualize the spatial distribution of the Opportunity Youth across South King County"
   ]
  },
  {
   "cell_type": "markdown",
   "metadata": {},
   "source": [
    "Seeing the region is nice, but it does not add much when trying to interpret trends. Our next step was to visualize the distribution of the OY population across this region. We first call a function that adds the columns to the geopandas dataframe containing: total estimated OY, total youth population, and percent OY. For both of the following maps, we chose to avoid any data classification and instead visualize the population data as continuous. "
   ]
  },
  {
   "cell_type": "code",
   "execution_count": null,
   "metadata": {},
   "outputs": [],
   "source": [
    "s_king_df = opyouth.prepare_df_for_choropleth(opp_youth,total_youth)"
   ]
  },
  {
   "cell_type": "markdown",
   "metadata": {},
   "source": [
    "Next, we call a function to create a choropleth map visualizing total OY pop by puma region. This map makes it clear that the largest OY populations reside in the southern and western urban areas of Seattle, and Vashon Island. The lowest OY populations reside closer to the center of Seattle, Central District, and Beacon Hill. "
   ]
  },
  {
   "cell_type": "code",
   "execution_count": null,
   "metadata": {},
   "outputs": [],
   "source": [
    "opyouth.make_choropleth_OYpop_map(s_king_df);"
   ]
  },
  {
   "cell_type": "markdown",
   "metadata": {},
   "source": [
    "Finally, we gain more insight by visualizing the OY percent of total youth population across the region. This is potentially a useful metric for interpretation because in a way it normalizes less and more densely populated regions. For example, we can see that the Maple Valley, Hobart, and Eumenclaw region has a faily high percent of OY despite the relatively low total OY population. We can also see that the Tukwila/South West Seattle puma region has both a high total OY population and a high percent of youth.  "
   ]
  },
  {
   "cell_type": "code",
   "execution_count": null,
   "metadata": {},
   "outputs": [],
   "source": [
    "opyouth.make_choropleth_percentOY_map(s_king_df);"
   ]
  },
  {
   "cell_type": "markdown",
   "metadata": {},
   "source": [
    "## Future Directions\n",
    "\n",
    "This preliminary exploration of the data is contingent on several assumptions based on the original analysis, mainly the selection of geographic areas in South King Co. and the criteria set forth for identifying opportunity youth. We recommend obtaining the 2014 data and following our methods to ensure direct comparability between the datasets. \n",
    "\n",
    "Furthermore, we would like to explore the trends surrouding the decrease of the total youth population in S. King Co. We would suggest mapping youth population across King Co. to test whether youth population has remained steady or grown, but moved out of S. King Co. \n",
    "\n",
    "Finally, our finding that there are fewer opportunity youth with college experience suggests that employment opportunities are higher for youth with college degrees. We suggest exploring this trend further by gathering employment data such as employment rates, employment sectors for youths, and the requirements these jobs may have."
   ]
  },
  {
   "cell_type": "code",
   "execution_count": null,
   "metadata": {},
   "outputs": [],
   "source": []
  }
 ],
 "metadata": {
  "kernelspec": {
   "display_name": "oy-env",
   "language": "python",
   "name": "oy-env"
  },
  "language_info": {
   "codemirror_mode": {
    "name": "ipython",
    "version": 3
   },
   "file_extension": ".py",
   "mimetype": "text/x-python",
   "name": "python",
   "nbconvert_exporter": "python",
   "pygments_lexer": "ipython3",
   "version": "3.7.3"
  }
 },
 "nbformat": 4,
 "nbformat_minor": 2
}
